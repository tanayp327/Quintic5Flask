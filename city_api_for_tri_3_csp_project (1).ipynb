{
  "nbformat": 4,
  "nbformat_minor": 0,
  "metadata": {
    "colab": {
      "provenance": []
    },
    "kernelspec": {
      "name": "python3",
      "display_name": "Python 3"
    },
    "language_info": {
      "name": "python"
    }
  },
  "cells": [
    {
      "cell_type": "markdown",
      "source": [
        "# Overview of City API CRUD\n",
        "Application Programming Interfaces (APIs) are an essential aspect of modern web development, and they are commonly used to allow communication between different software applications. APIs can be used to access or manipulate data that is stored in a database, and one common type of API is a city API dataset. This type of API contains information about different cities around the world, including details about their population, location, and other relevant data. In this article, we will discuss how to create, read, update, and delete entries in a city API dataset.\n",
        "\n",
        "Creating Entries in a City API Dataset\n",
        "To create an entry in a city API dataset, you will need to have access to the database and a valid API key. Once you have this, you can use an HTTP POST request to submit the new entry to the database. You will need to provide all the relevant information about the city, including its name, population, location, and any other data that you want to store. The API will then validate the data and add it to the database.\n",
        "\n",
        "Reading Entries from a City API Dataset\n",
        "To read entries from a city API dataset, you can use an HTTP GET request. You will need to specify the endpoint for the API, which will typically be a URL that includes the name of the resource you want to access. For example, if you want to retrieve information about a city named New York, you might use the following URL: https://api.example.com/cities/new-york. The API will then return a response containing all the relevant information about the city, including its name, population, location, and other data that you have stored.\n",
        "\n",
        "Updating Entries in a City API Dataset\n",
        "To update an entry in a city API dataset, you can use an HTTP PUT or PATCH request. You will need to specify the endpoint for the API, as well as the unique identifier for the city that you want to update. You can then provide the updated information for the city, which will overwrite the existing data in the database. It is important to ensure that you only update the fields that need to be changed, as this will help to prevent any unintended consequences.\n",
        "\n",
        "Deleting Entries from a City API Dataset\n",
        "To delete an entry from a city API dataset, you can use an HTTP DELETE request. You will need to specify the endpoint for the API, as well as the unique identifier for the city that you want to delete. The API will then remove the city from the database, along with all the associated data.\n",
        "\n",
        "Best Practices for Working with City API Datasets\n",
        "When working with city API datasets, it is important to follow best practices to ensure that your application is secure, reliable, and efficient. Some best practices include:\n",
        "\n",
        "Limiting the number of API requests you make to the database, as this can help to reduce server load and prevent issues with performance.\n",
        "Using authentication and authorization to ensure that only authorized users can access or manipulate the data in the database.\n",
        "Validating all user input to prevent any errors or malicious input that could cause issues with the database.\n",
        "Regularly backing up the database to prevent any data loss in the event of a failure or other issue.\n",
        "Monitoring the database for any issues or errors and addressing them promptly to ensure that your application remains reliable and functional.\n",
        "Conclusion\n",
        "In conclusion, creating, reading, updating, and deleting entries in a city API dataset is a straightforward process that can be accomplished using standard HTTP requests. By following best practices and ensuring that your application is secure, reliable, and efficient, you can create a high-quality API that allows users to access and manipulate city data in a convenient and efficient manner."
      ],
      "metadata": {
        "id": "T262Nt_G2oeV"
      }
    },
    {
      "cell_type": "markdown",
      "source": [
        "#Demonstration of City API connecting between Frontend and Backend"
      ],
      "metadata": {
        "id": "ayJMe39h2wRx"
      }
    },
    {
      "cell_type": "code",
      "execution_count": null,
      "metadata": {
        "id": "TOgapy6372LQ"
      },
      "outputs": [],
      "source": [
        "# Import the requests module\n",
        "import requests\n",
        "\n",
        "# Set the URL of the API endpoint\n",
        "url = \"https://wft-geo-db.p.rapidapi.com/v1/geo/adminDivisions\"\n",
        "\n",
        "# Set the headers for the API request\n",
        "headers = {\n",
        "    \"X-RapidAPI-Key\": \"c0f7469cd7mshc45a4834d55afdep1b5c00jsnc8a41fb46f94\",\n",
        "    \"X-RapidAPI-Host\": \"wft-geo-db.p.rapidapi.com\"\n",
        "}\n",
        "\n",
        "# Make the API request using the requests module\n",
        "response = requests.request(\"GET\", url, headers=headers)\n",
        "\n",
        "# Print the response text\n",
        "print(response.text)\n",
        "\n",
        "# Check the status code of the response\n",
        "if response.status_code == 200:\n",
        "    print(\"API request was successful!\")\n",
        "elif response.status_code == 400:\n",
        "    print(\"Bad request! Check your parameters.\")\n",
        "elif response.status_code == 401:\n",
        "    print(\"Unauthorized! Check your API key.\")\n",
        "elif response.status_code == 404:\n",
        "    print(\"API endpoint not found!\")\n",
        "else:\n",
        "    print(f\"Unexpected status code: {response.status_code}\")\n",
        "\n",
        "# Convert the response text from JSON to a Python dictionary\n",
        "data = response.json()\n",
        "\n",
        "# Print the number of administrative divisions in the response\n",
        "print(f\"There are {len(data['data'])} administrative divisions.\")\n",
        "\n",
        "# Print the names of the first 10 administrative divisions in the response\n",
        "print(\"The first 10 administrative divisions are:\")\n",
        "for division in data['data'][:10]:\n",
        "    print(division['name'])\n",
        "    \n",
        "# Print the full name of the administrative division with ID 3780\n",
        "division_id = 3780\n",
        "for division in data['data']:\n",
        "    if division['id'] == division_id:\n",
        "        print(f\"The full name of division {division_id} is {division['fullName']}.\")\n",
        "        break\n",
        "else:\n",
        "    print(f\"Division {division_id} not found in response.\")"
      ]
    }
  ]
}