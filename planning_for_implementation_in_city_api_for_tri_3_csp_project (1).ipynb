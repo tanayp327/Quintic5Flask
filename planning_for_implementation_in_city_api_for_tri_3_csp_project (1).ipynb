{
  "nbformat": 4,
  "nbformat_minor": 0,
  "metadata": {
    "colab": {
      "provenance": []
    },
    "kernelspec": {
      "name": "python3",
      "display_name": "Python 3"
    },
    "language_info": {
      "name": "python"
    }
  },
  "cells": [
    {
      "cell_type": "markdown",
      "source": [
        "# Planning On How To Include A Sorting Algorithm and Searching/Filtering of Data\n",
        "\n",
        "The implementation of these algorithm should how to make an API request to fetch data from the \"wft-geo-db\" API endpoint. The API returns administrative division data for various countries. The code block retrieves the response data and prints the names of the first 10 administrative divisions and the full name of a specific administrative division based on its ID.\n",
        "\n",
        "However, the code block doesn't include any sorting or filtering of data. Sorting refers to arranging data in a specific order based on a particular field or property. Filtering refers to selecting a subset of data based on specific criteria or conditions.\n",
        "\n",
        "To include sorting in the code block, I modified the line that retrieves the administrative division data to sort the data based on a specific field. For example, to sort the data based on the division name, I modified the line as follows:\n",
        "\n",
        "```\n",
        "data = sorted(response.json()['data'], key=lambda x: x['name'])\n",
        "```\n",
        "Here, the sorted() function sorts the data list based on the name field of each administrative division. The lambda function specifies the key to sort the data by.\n",
        "\n",
        "To include filtering in the code block, I modified the line that retrieves the administrative division data to filter the data based on specific conditions. For example, to filter the data to include only administrative divisions for a specific country, I modified the line as follows:\n",
        "\n",
        "```\n",
        "country_code = 'US'\n",
        "data = [division for division in response.json()['data'] if division['countryCode'] == country_code]\n",
        "```\n",
        "Here, the list comprehension filters the data list to include only administrative divisions with a countryCode value of 'US'.\n",
        "\n",
        "In summary, to include sorting and filtering in the above code block, I modified the line that retrieves the administrative division data to include the sorting and filtering criteria. You can use the sorted() function to sort the data based on a specific field and a list comprehension to filter the data based on specific conditions.\n"
      ],
      "metadata": {
        "id": "T262Nt_G2oeV"
      }
    },
    {
      "cell_type": "markdown",
      "source": [
        "#Implementation of the sorting algorithm and searching/filtering of data"
      ],
      "metadata": {
        "id": "ayJMe39h2wRx"
      }
    },
    {
      "cell_type": "code",
      "execution_count": null,
      "metadata": {
        "id": "TOgapy6372LQ"
      },
      "outputs": [],
      "source": [
        "import requests\n",
        "url = \"https://wft-geo-db.p.rapidapi.com/v1/geo/adminDivisions\"\n",
        "\n",
        "headers = {\n",
        "    \"X-RapidAPI-Key\": \"c0f7469cd7mshc45a4834d55afdep1b5c00jsnc8a41fb46f94\",\n",
        "    \"X-RapidAPI-Host\": \"wft-geo-db.p.rapidapi.com\"\n",
        "}\n",
        "\n",
        "params = {\n",
        "    \"sort\": \"fullName\",\n",
        "    \"dir\": \"asc\", #sorts the database in ascending (alphabetical order)\n",
        "    \"filter\": \"countryCode='US'\" #filters just for American cities\n",
        "}\n",
        "\n",
        "response = requests.get(url, headers=headers, params=params)\n",
        "print(response.text)\n",
        "\n",
        "if response.status_code == 200:\n",
        "    print(\"API request was successful!\")\n",
        "\n",
        "elif response.status_code == 400:\n",
        "    print(\"Bad request! Check your parameters.\")\n",
        "\n",
        "elif response.status_code == 401:\n",
        "    print(\"Unauthorized! Check your API key.\")\n",
        "\n",
        "elif response.status_code == 404:\n",
        "    print(\"API endpoint not found!\")\n",
        "\n",
        "else:\n",
        "    print(f\"Unexpected status code: {response.status_code}\")\n",
        "\n",
        "data = response.json()\n",
        "print(f\"There are {len(data['data'])} administrative divisions in the US.\")\n",
        "print(\"The administrative divisions in the US are:\") #searching for data about administrative divisions in the US\n",
        "for division in data['data']:\n",
        "    print(f\"{division['name']} ({division['fullName']})\")"
      ]
    }
  ]
}